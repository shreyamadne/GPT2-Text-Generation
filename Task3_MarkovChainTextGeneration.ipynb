{
  "nbformat": 4,
  "nbformat_minor": 0,
  "metadata": {
    "colab": {
      "provenance": []
    },
    "kernelspec": {
      "name": "python3",
      "display_name": "Python 3"
    },
    "language_info": {
      "name": "python"
    }
  },
  "cells": [
    {
      "cell_type": "code",
      "execution_count": 1,
      "metadata": {
        "id": "BvNWyUtUYLpZ"
      },
      "outputs": [],
      "source": [
        "import random\n"
      ]
    },
    {
      "cell_type": "code",
      "source": [
        "text = \"Cars are fun. Cars are fast. Fast cars win the race. Race cars are awesome.\"\n"
      ],
      "metadata": {
        "id": "AcQ1n_64Yukl"
      },
      "execution_count": 2,
      "outputs": []
    },
    {
      "cell_type": "code",
      "source": [
        "def build_chain(text):\n",
        "    words = text.split()\n",
        "    chain = {}\n",
        "    for current_word, next_word in zip(words[:-1], words[1:]):\n",
        "        if current_word in chain:\n",
        "            chain[current_word].append(next_word)\n",
        "        else:\n",
        "            chain[current_word] = [next_word]\n",
        "    return chain\n",
        "\n",
        "chain = build_chain(text)\n",
        "print(chain)\n"
      ],
      "metadata": {
        "colab": {
          "base_uri": "https://localhost:8080/"
        },
        "id": "NvCOXl6mYxm7",
        "outputId": "dcb32af3-7210-4641-f05a-dd97a21027f9"
      },
      "execution_count": 3,
      "outputs": [
        {
          "output_type": "stream",
          "name": "stdout",
          "text": [
            "{'Cars': ['are', 'are'], 'are': ['fun.', 'fast.', 'awesome.'], 'fun.': ['Cars'], 'fast.': ['Fast'], 'Fast': ['cars'], 'cars': ['win', 'are'], 'win': ['the'], 'the': ['race.'], 'race.': ['Race'], 'Race': ['cars']}\n"
          ]
        }
      ]
    },
    {
      "cell_type": "code",
      "source": [
        "def generate_text(chain, count=15):\n",
        "    word = random.choice(list(chain.keys()))\n",
        "    output = [word]\n",
        "    for _ in range(count - 1):\n",
        "        next_words = chain.get(word)\n",
        "        if not next_words:\n",
        "            break\n",
        "        word = random.choice(next_words)\n",
        "        output.append(word)\n",
        "    return ' '.join(output)\n",
        "\n",
        "generated = generate_text(chain, 15)\n",
        "print(generated)\n"
      ],
      "metadata": {
        "colab": {
          "base_uri": "https://localhost:8080/"
        },
        "id": "mg3hTv8ZY2lk",
        "outputId": "b2478863-77e8-40f3-fceb-4ede0e276537"
      },
      "execution_count": 5,
      "outputs": [
        {
          "output_type": "stream",
          "name": "stdout",
          "text": [
            "cars are awesome.\n"
          ]
        }
      ]
    }
  ]
}