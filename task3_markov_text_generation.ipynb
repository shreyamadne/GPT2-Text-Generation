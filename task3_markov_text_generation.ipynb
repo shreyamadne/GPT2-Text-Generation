{
  "nbformat": 4,
  "nbformat_minor": 0,
  "metadata": {
    "colab": {
      "provenance": []
    },
    "kernelspec": {
      "name": "python3",
      "display_name": "Python 3"
    },
    "language_info": {
      "name": "python"
    }
  },
  "cells": [
    {
      "cell_type": "code",
      "execution_count": 1,
      "metadata": {
        "id": "BvNWyUtUYLpZ"
      },
      "outputs": [],
      "source": [
        "import random\n"
      ]
    },
    {
      "cell_type": "code",
      "source": [
        "input_text = \"Engines roar. Wheels spin. Speed thrills. Cars chase dreams.\""
      ],
      "metadata": {
        "id": "AcQ1n_64Yukl"
      },
      "execution_count": 6,
      "outputs": []
    },
    {
      "cell_type": "code",
      "source": [
        "def build_chain(text):\n",
        "    words = text.split()\n",
        "    chain = {}\n",
        "    for current, nxt in zip(words[:-1], words[1:]):\n",
        "        chain.setdefault(current, []).append(nxt)\n",
        "    return chain\n",
        "\n",
        "markov_chain = build_chain(input_text)\n",
        "print(markov_chain)"
      ],
      "metadata": {
        "colab": {
          "base_uri": "https://localhost:8080/"
        },
        "id": "NvCOXl6mYxm7",
        "outputId": "ef8ddf77-d28a-4e1f-d49c-0faf5254bd6f"
      },
      "execution_count": 7,
      "outputs": [
        {
          "output_type": "stream",
          "name": "stdout",
          "text": [
            "{'Engines': ['roar.'], 'roar.': ['Wheels'], 'Wheels': ['spin.'], 'spin.': ['Speed'], 'Speed': ['thrills.'], 'thrills.': ['Cars'], 'Cars': ['chase'], 'chase': ['dreams.']}\n"
          ]
        }
      ]
    },
    {
      "cell_type": "code",
      "source": [
        "def generate_text(chain, length=10):\n",
        "    word = random.choice(list(chain.keys()))\n",
        "    output = [word]\n",
        "    for _ in range(length - 1):\n",
        "        next_words = chain.get(word)\n",
        "        if not next_words:\n",
        "            word = random.choice(list(chain.keys()))\n",
        "        else:\n",
        "            word = random.choice(next_words)\n",
        "        output.append(word)\n",
        "    return ' '.join(output)\n",
        "\n",
        "print(generate_text(markov_chain))"
      ],
      "metadata": {
        "colab": {
          "base_uri": "https://localhost:8080/"
        },
        "id": "mg3hTv8ZY2lk",
        "outputId": "00cb0ac6-a014-4d7a-f7af-18b4f0d4d4bf"
      },
      "execution_count": 15,
      "outputs": [
        {
          "output_type": "stream",
          "name": "stdout",
          "text": [
            "Wheels spin. Speed thrills. Cars chase dreams. roar. Wheels spin.\n"
          ]
        }
      ]
    }
  ]
}